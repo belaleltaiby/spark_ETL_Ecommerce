{
 "cells": [
  {
   "cell_type": "code",
   "execution_count": 5,
   "id": "7f82d4fa",
   "metadata": {},
   "outputs": [],
   "source": [
    "from pyspark.sql import SparkSession\n",
    "SparkSession.builder.master(\"local[*]\").getOrCreate().stop()"
   ]
  },
  {
   "cell_type": "code",
   "execution_count": 8,
   "id": "c5acff81",
   "metadata": {},
   "outputs": [],
   "source": [
    "spark = SparkSession.builder.getOrCreate()"
   ]
  },
  {
   "cell_type": "markdown",
   "id": "8b29ec31",
   "metadata": {},
   "source": [
    "# Data Ingestion - load Data and Show samples"
   ]
  },
  {
   "cell_type": "code",
   "execution_count": 42,
   "id": "29812051",
   "metadata": {
    "scrolled": true
   },
   "outputs": [
    {
     "name": "stdout",
     "output_type": "stream",
     "text": [
      "+--------------+-------+----------+--------+------+----------------+\n",
      "|transaction_id|user_id|product_id|quantity|amount|transaction_date|\n",
      "+--------------+-------+----------+--------+------+----------------+\n",
      "|             1|   5388|      9152|       9|305.67|      2023-01-07|\n",
      "|             2|  31656|      5763|       1|184.31|      2023-05-16|\n",
      "|             3|  36725|      4733|       4|  7.66|      2023-01-20|\n",
      "+--------------+-------+----------+--------+------+----------------+\n",
      "only showing top 3 rows\n",
      "\n",
      "+----------+------------+-----------+------+\n",
      "|product_id|product_name|stock_level| price|\n",
      "+----------+------------+-----------+------+\n",
      "|         1|   Product_1|         61| 91.89|\n",
      "|         2|   Product_2|        553|  9.75|\n",
      "|         3|   Product_3|        328|182.89|\n",
      "+----------+------------+-----------+------+\n",
      "only showing top 3 rows\n",
      "\n",
      "+-------+----------+------+--------------------+-----------+\n",
      "|user_id|product_id|rating|              review|review_date|\n",
      "+-------+----------+------+--------------------+-----------+\n",
      "|   9320|      1971|     4|Review text for p...| 2023-01-11|\n",
      "|  64245|      3664|     4|Review text for p...| 2023-01-23|\n",
      "|  37341|      7419|     4|Review text for p...| 2023-08-14|\n",
      "+-------+----------+------+--------------------+-----------+\n",
      "only showing top 3 rows\n",
      "\n"
     ]
    }
   ],
   "source": [
    "from pyspark.sql.types import StructType, StructField, StringType, IntegerType, FloatType\n",
    "\n",
    "# Load large transactions data\n",
    "transactions_df = spark.read.csv(\"large_transactions.csv\",header =\"true\")\n",
    "\n",
    "# Load large customer feedback data\n",
    "feedback_df = spark.read.csv(\"large_customer_feedback.csv\",header =\"true\")\n",
    "\n",
    "# Load large inventory data\n",
    "# Define the schema for json file\n",
    "schema = StructType([\n",
    "    StructField(\"product_id\", IntegerType(), False),\n",
    "    StructField(\"product_name\", StringType(), True),\n",
    "    StructField(\"stock_level\", IntegerType(), True),\n",
    "    StructField(\"price\", FloatType(), True)\n",
    "])\n",
    "inventory_df = spark.read.option(\"multiline\",\"true\").schema(schema).json(\"large_inventory.json\")\n",
    "\n",
    "# Display a sample of each dataset\n",
    "transactions_df.show(3)\n",
    "inventory_df.show(3)\n",
    "feedback_df.show(3)\n"
   ]
  },
  {
   "cell_type": "markdown",
   "id": "66eb471c",
   "metadata": {},
   "source": [
    "# Data Cleaning and Transformation with RDDs"
   ]
  },
  {
   "cell_type": "code",
   "execution_count": 43,
   "id": "a7e51caa",
   "metadata": {},
   "outputs": [],
   "source": [
    "# Convert transactions DataFrame to RDD\n",
    "transactions_rdd = transactions_df.rdd\n",
    "#print(type(transactions_rdd.take(1)))\n",
    "#transactions_rdd.take(3)\n",
    "\n",
    "#function to check if a record is valid\n",
    "def is_valid(record):\n",
    "    return record['transaction_id'] is not None and record['transaction_id'] !='' and record['amount'] is not None and record['amount'] != ''\n",
    "\n",
    "#filter out invalid records\n",
    "cleaned_transactions_rdd = transactions_rdd.filter(is_valid)\n",
    "cleaned_records = cleaned_transactions_rdd.take(5)\n",
    "\n",
    "#print(\"cleaned_records:\")\n",
    "#for record in cleaned_records:\n",
    "#    print(record)\n",
    "\n",
    "\n"
   ]
  },
  {
   "cell_type": "code",
   "execution_count": 44,
   "id": "f510e110",
   "metadata": {},
   "outputs": [
    {
     "name": "stdout",
     "output_type": "stream",
     "text": [
      "+--------------+-------+----------+--------+------+----------------+\n",
      "|transaction_id|user_id|product_id|quantity|amount|transaction_date|\n",
      "+--------------+-------+----------+--------+------+----------------+\n",
      "|             1|   5388|      9152|       9|305.67|      2023-01-07|\n",
      "|             2|  31656|      5763|       1|184.31|      2023-05-16|\n",
      "|             3|  36725|      4733|       4|  7.66|      2023-01-20|\n",
      "|             4|  22713|      4207|       1|411.73|      2023-04-19|\n",
      "|             5|  74067|      1914|       5|499.21|      2023-08-17|\n",
      "+--------------+-------+----------+--------+------+----------------+\n",
      "only showing top 5 rows\n",
      "\n"
     ]
    }
   ],
   "source": [
    "import hashlib\n",
    "from pyspark.sql import Row\n",
    "\n",
    "# Write Function to Anonymize user IDs using Hashing\n",
    "def anonymize(record):\n",
    "    return Row(\n",
    "        transaction_id=record.transaction_id,\n",
    "        user_id=hashlib.sha256(record.user_id.encode()).hexdigest(),\n",
    "        product_id=record.product_id,\n",
    "        quantity=record.quantity,\n",
    "        amount=record.amount,\n",
    "        transaction_date=record.transaction_date\n",
    "    )\n",
    "#Aplly the hashing function to each record\n",
    "anonymized_rdd = cleaned_transactions_rdd.map(anonymize)\n",
    "anonymized_records = anonymized_rdd.take(5)\n",
    "\n",
    "#show user_id after being hashed\n",
    "#for record in anonymized_records:\n",
    "#    print(record[\"user_id\"])\n",
    "\n",
    "# convert rdd back to dataframe\n",
    "cleaned_transactions_df = cleaned_transactions_rdd.toDF()\n",
    "\n",
    "# Display cleaned and anonymized data\n",
    "cleaned_transactions_df.show(5)"
   ]
  },
  {
   "cell_type": "markdown",
   "id": "17d7c308",
   "metadata": {},
   "source": [
    "# DataFrame Operations for Cleaning and Transformation"
   ]
  },
  {
   "cell_type": "code",
   "execution_count": 51,
   "id": "1715099a",
   "metadata": {
    "scrolled": true
   },
   "outputs": [
    {
     "name": "stdout",
     "output_type": "stream",
     "text": [
      "+----------+------------+-----------+------+\n",
      "|product_id|product_name|stock_level| price|\n",
      "+----------+------------+-----------+------+\n",
      "|         1|   product_1|         61| 91.89|\n",
      "|         2|   product_2|        553|  9.75|\n",
      "|         3|   product_3|        328|182.89|\n",
      "|         4|   product_4|        347|148.38|\n",
      "+----------+------------+-----------+------+\n",
      "only showing top 4 rows\n",
      "\n",
      "+----------+------------+-----------+------+--------------+-------+--------+------+----------------+\n",
      "|product_id|product_name|stock_level| price|transaction_id|user_id|quantity|amount|transaction_date|\n",
      "+----------+------------+-----------+------+--------------+-------+--------+------+----------------+\n",
      "|      9152|product_9152|        871| 238.7|             1|   5388|       9|305.67|      2023-01-07|\n",
      "|      5763|product_5763|        252| 91.52|             2|  31656|       1|184.31|      2023-05-16|\n",
      "|      4733|product_4733|        235| 33.22|             3|  36725|       4|  7.66|      2023-01-20|\n",
      "|      4207|product_4207|        928|  6.67|             4|  22713|       1|411.73|      2023-04-19|\n",
      "|      1914|product_1914|          4| 29.71|             5|  74067|       5|499.21|      2023-08-17|\n",
      "|      3659|product_3659|        140|150.95|             6|  71388|       1|332.64|      2023-11-07|\n",
      "|      8588|product_8588|        179| 35.72|             7|  39905|      10|474.85|      2023-10-04|\n",
      "|      2429|product_2429|         28|231.91|             8|   6180|       6| 18.35|      2023-06-29|\n",
      "+----------+------------+-----------+------+--------------+-------+--------+------+----------------+\n",
      "only showing top 8 rows\n",
      "\n"
     ]
    }
   ],
   "source": [
    "from pyspark.sql.functions import col, lower, trim\n",
    "\n",
    "# Clean inventory data by handling missing values and normalizing text\n",
    "cleaned_inventory_df = inventory_df.dropna(subset=[\"stock_level\"])\\\n",
    "                                  .withColumn(\"product_name\", lower(trim(col(\"product_name\"))))\n",
    "\n",
    "cleaned_inventory_df.show(4)\n",
    "\n",
    "#perform a join operation to combine data (inventory and transactions)\n",
    "joined_df = cleaned_inventory_df.join(cleaned_transactions_df,on='product_id',how='inner')\n",
    "joined_df.show(8)\n"
   ]
  },
  {
   "cell_type": "markdown",
   "id": "7a3444c4",
   "metadata": {},
   "source": [
    "# Spark SQL Queries"
   ]
  },
  {
   "cell_type": "code",
   "execution_count": 57,
   "id": "a4c3132e",
   "metadata": {},
   "outputs": [
    {
     "name": "stderr",
     "output_type": "stream",
     "text": [
      "[Stage 68:========================================>             (150 + 3) / 200]\r"
     ]
    },
    {
     "name": "stdout",
     "output_type": "stream",
     "text": [
      "+------------+--------------+\n",
      "|product_name|purshase_count|\n",
      "+------------+--------------+\n",
      "| product_629|            17|\n",
      "|product_8334|            16|\n",
      "|product_7350|            16|\n",
      "|product_1085|            15|\n",
      "| product_895|            15|\n",
      "+------------+--------------+\n",
      "only showing top 5 rows\n",
      "\n"
     ]
    },
    {
     "name": "stderr",
     "output_type": "stream",
     "text": [
      "\r",
      "[Stage 68:================================================>     (180 + 6) / 200]\r",
      "\r",
      "                                                                                \r"
     ]
    }
   ],
   "source": [
    "# Create temporary views for SQL queries\n",
    "cleaned_transactions_df.createOrReplaceTempView(\"transactions\")\n",
    "cleaned_inventory_df.createOrReplaceTempView(\"inventory\")\n",
    "joined_df.createOrReplaceGlobalTempView(\"joined_data\")\n",
    "\n",
    "#query: Top 10 most purshased products in the last month\n",
    "filtered_df = joined_df.filter(f.col(\"transaction_date\") >= \"2023-12-1\")\n",
    "top_products_df = filtered_df.groupBy(\"product_name\").agg(f.count(\"*\").alias(\"purshase_count\")).orderBy(f.desc(\"purshase_count\"))\n",
    "\n",
    "\n",
    "#top_products_df = spark.sql(\"\"\"select product_name, COUNT(*) from joined_data where transaction_date >= '2023-12-01'\\\n",
    "#            group BY product_name ORDER BY purchase_count DESC LIMIT 10  \"\"\")\n",
    "\n",
    "\n",
    "\n",
    "top_products_df.show(5)"
   ]
  },
  {
   "cell_type": "code",
   "execution_count": 60,
   "id": "805ff353",
   "metadata": {},
   "outputs": [
    {
     "name": "stderr",
     "output_type": "stream",
     "text": [
      "[Stage 82:=============================================>        (167 + 6) / 200]\r"
     ]
    },
    {
     "name": "stdout",
     "output_type": "stream",
     "text": [
      "+----+---+---------------+\n",
      "|   Y|  M|monthly_revenue|\n",
      "+----+---+---------------+\n",
      "|2023|  1|          85136|\n",
      "|2023|  2|          77283|\n",
      "|2023|  3|          85246|\n",
      "|2023|  4|          82698|\n",
      "|2023|  5|          84790|\n",
      "|2023|  6|          82539|\n",
      "|2023|  7|          84771|\n",
      "|2023|  8|          84557|\n",
      "|2023|  9|          81936|\n",
      "|2023| 10|          85441|\n",
      "|2023| 11|          82950|\n",
      "|2023| 12|          82653|\n",
      "+----+---+---------------+\n",
      "\n"
     ]
    },
    {
     "name": "stderr",
     "output_type": "stream",
     "text": [
      "\r",
      "                                                                                \r"
     ]
    }
   ],
   "source": [
    "# Query: Monthly revenue trends\n",
    "monthly_revenue_df = spark.sql(\"\"\" select YEAR(transaction_date) as Y ,Month(transaction_date) as M\n",
    "            ,COUNT(amount) as monthly_revenue\n",
    "            from transactions \n",
    "            group by Y, M \n",
    "            order by M\"\"\")\n",
    "\n",
    "monthly_revenue_df.show()"
   ]
  },
  {
   "cell_type": "code",
   "execution_count": 65,
   "id": "f742b81d",
   "metadata": {},
   "outputs": [
    {
     "name": "stderr",
     "output_type": "stream",
     "text": [
      "[Stage 85:======================================>                   (2 + 1) / 3]\r"
     ]
    },
    {
     "name": "stdout",
     "output_type": "stream",
     "text": [
      "+----------+-------------------+-----------------+-----------------------+\n",
      "|product_id|total_quantity_sold|average_inventory|inventory_turnover_rate|\n",
      "+----------+-------------------+-----------------+-----------------------+\n",
      "|      4937|              476.0|            936.0|     0.5085470085470085|\n",
      "|      2069|              545.0|            749.0|     0.7276368491321762|\n",
      "|      3606|              651.0|            736.0|     0.8845108695652174|\n",
      "|      5325|              615.0|            460.0|     1.3369565217391304|\n",
      "|      2904|              538.0|            379.0|     1.4195250659630607|\n",
      "|      2162|              538.0|            736.0|     0.7309782608695652|\n",
      "|      9586|              643.0|            452.0|     1.4225663716814159|\n",
      "|      1159|              495.0|            190.0|     2.6052631578947367|\n",
      "|      7711|              556.0|            103.0|      5.398058252427185|\n",
      "|       691|              587.0|            111.0|      5.288288288288288|\n",
      "|       675|              519.0|            607.0|     0.8550247116968699|\n",
      "|      9993|              487.0|            721.0|     0.6754507628294036|\n",
      "|      9030|              656.0|            271.0|     2.4206642066420665|\n",
      "|      2294|              537.0|             13.0|      41.30769230769231|\n",
      "|      9583|              589.0|            107.0|     5.5046728971962615|\n",
      "|      8304|              549.0|            391.0|     1.4040920716112533|\n",
      "|      9009|              495.0|            810.0|     0.6111111111111112|\n",
      "|      5645|              493.0|            657.0|     0.7503805175038052|\n",
      "|      3414|              564.0|            262.0|     2.1526717557251906|\n",
      "|      6194|              559.0|            108.0|      5.175925925925926|\n",
      "+----------+-------------------+-----------------+-----------------------+\n",
      "only showing top 20 rows\n",
      "\n"
     ]
    },
    {
     "name": "stderr",
     "output_type": "stream",
     "text": [
      "\r",
      "                                                                                \r"
     ]
    }
   ],
   "source": [
    "# Query: Inventory turnover rates\n",
    "\n",
    "total_sales_df = transactions_df.groupBy(\"product_id\").agg(f.sum(\"quantity\").alias(\"total_quantity_sold\"))\n",
    "\n",
    "average_inventory_df = inventory_df.groupBy(\"product_id\").agg(f.avg(\"stock_level\")\\\n",
    "                                        .alias(\"average_inventory\"))\n",
    "\n",
    "turnover_df = total_sales_df.join(average_inventory_df, on=\"product_id\")\n",
    "# Calculate inventory turnover rate\n",
    "turnover_df = turnover_df.withColumn(\n",
    "    \"inventory_turnover_rate\",\n",
    "    f.col(\"total_quantity_sold\") / f.col(\"average_inventory\")\n",
    ")\n",
    "\n",
    "turnover_df.show()"
   ]
  },
  {
   "cell_type": "markdown",
   "id": "d73c4dcf",
   "metadata": {},
   "source": [
    "# Performance Optimization Techniques"
   ]
  },
  {
   "cell_type": "code",
   "execution_count": 66,
   "id": "7d5ab6b5",
   "metadata": {},
   "outputs": [
    {
     "name": "stderr",
     "output_type": "stream",
     "text": [
      "[Stage 89:======================================>                   (2 + 1) / 3]\r"
     ]
    },
    {
     "name": "stdout",
     "output_type": "stream",
     "text": [
      "+----------+--------------+-------+--------+------+----------------+------------+-----------+------+\n",
      "|product_id|transaction_id|user_id|quantity|amount|transaction_date|product_name|stock_level| price|\n",
      "+----------+--------------+-------+--------+------+----------------+------------+-----------+------+\n",
      "|      4937|            30|  60843|       2|350.98|      2023-06-18|Product_4937|        936|180.73|\n",
      "|      2069|           209|  33561|       4|110.38|      2023-10-09|Product_2069|        749|351.35|\n",
      "|      3606|           462|  60912|       4|477.52|      2023-10-26|Product_3606|        736|242.68|\n",
      "|      5325|           468|   3507|       3|330.94|      2023-02-08|Product_5325|        460| 26.47|\n",
      "|      2904|          1083|   1078|       6| 25.47|      2023-03-27|Product_2904|        379|345.25|\n",
      "+----------+--------------+-------+--------+------+----------------+------------+-----------+------+\n",
      "only showing top 5 rows\n",
      "\n"
     ]
    },
    {
     "name": "stderr",
     "output_type": "stream",
     "text": [
      "\r",
      "                                                                                \r"
     ]
    }
   ],
   "source": [
    "from pyspark.sql.functions import broadcast\n",
    "\n",
    "# Caching DataFrames to optimize performance for multiple transformations\n",
    "transactions_df.cache()\n",
    "inventory_df.cache()\n",
    "\n",
    "# Repartition DataFrames for optimal join performance\n",
    "transactions_df_repartitioned = transactions_df.repartition(\"product_id\")\n",
    "inventory_df_repartitioned = inventory_df.repartition(\"product_id\")\n",
    "\n",
    "\n",
    "# Use Broadcast Join for small DataFrames (if applicable)\n",
    "joined_df_optimized = transactions_df_repartitioned.join(\n",
    "    broadcast(inventory_df_repartitioned),\n",
    "    on=\"product_id\",\n",
    "    how=\"inner\"  # Adjust join type as needed\n",
    ")\n",
    "\n",
    "# Display the optimized joined DataFrame\n",
    "joined_df_optimized.show(5)"
   ]
  },
  {
   "cell_type": "markdown",
   "id": "03c01db9",
   "metadata": {},
   "source": [
    "# Store the Transformed Data"
   ]
  },
  {
   "cell_type": "code",
   "execution_count": 67,
   "id": "d679ff19",
   "metadata": {},
   "outputs": [
    {
     "name": "stderr",
     "output_type": "stream",
     "text": [
      "                                                                                \r"
     ]
    }
   ],
   "source": [
    "output_path = \"/user/student/sparkETL_data\"\n",
    "\n",
    "# Save DataFrame in Parquet format\n",
    "joined_df_optimized.write.mode(\"overwrite\").parquet(output_path)\n",
    "\n",
    "\n",
    "joined_df_optimized.write.mode(\"overwrite\").option(\"compression\", \"snappy\").parquet(output_path)\n"
   ]
  },
  {
   "cell_type": "markdown",
   "id": "cd79ae21",
   "metadata": {},
   "source": [
    "# Top Products Bar Chart"
   ]
  },
  {
   "cell_type": "code",
   "execution_count": 70,
   "id": "df9bd6a9",
   "metadata": {},
   "outputs": [
    {
     "name": "stderr",
     "output_type": "stream",
     "text": [
      "[Stage 103:=================================================>   (185 + 4) / 200]\r"
     ]
    },
    {
     "name": "stdout",
     "output_type": "stream",
     "text": [
      "+------------+-----------+\n",
      "|product_name|total_sales|\n",
      "+------------+-----------+\n",
      "|Product_4360|      836.0|\n",
      "|Product_1970|      788.0|\n",
      "|Product_2710|      786.0|\n",
      "|Product_7075|      779.0|\n",
      "|Product_4670|      769.0|\n",
      "|Product_5735|      765.0|\n",
      "|Product_4316|      764.0|\n",
      "|Product_3738|      764.0|\n",
      "|Product_6342|      763.0|\n",
      "|Product_4957|      760.0|\n",
      "+------------+-----------+\n",
      "\n"
     ]
    },
    {
     "name": "stderr",
     "output_type": "stream",
     "text": [
      "\r",
      "                                                                                \r"
     ]
    }
   ],
   "source": [
    "#prepare the data\n",
    "top_products_df = joined_df_optimized.groupBy(\"product_name\").agg(\n",
    "    f.sum(\"quantity\").alias(\"total_sales\")\n",
    ").orderBy(f.desc(\"total_sales\")).limit(10)\n",
    "\n",
    "top_products_df.show()\n"
   ]
  },
  {
   "cell_type": "markdown",
   "id": "724eb6ef",
   "metadata": {},
   "source": [
    "# Revenue Trend Line Chart"
   ]
  },
  {
   "cell_type": "code",
   "execution_count": 73,
   "id": "32fd4151",
   "metadata": {},
   "outputs": [
    {
     "name": "stderr",
     "output_type": "stream",
     "text": [
      "                                                                                \r"
     ]
    },
    {
     "data": {
      "image/png": "[encoded data removed]",
      "text/plain": [
       "<Figure size 864x576 with 1 Axes>"
      ]
     },
     "metadata": {
      "needs_background": "light"
     },
     "output_type": "display_data"
    }
   ],
   "source": [
    "import matplotlib.pyplot as plt\n",
    "import pandas as pd\n",
    "\n",
    "# Convert to Pandas DataFrame for plotting\n",
    "top_products_pd = top_products_df.toPandas()\n",
    "\n",
    "# Plot\n",
    "plt.figure(figsize=(12, 8))\n",
    "plt.bar(top_products_pd['product_name'], top_products_pd['total_sales'])\n",
    "plt.xlabel('Product Name')\n",
    "plt.ylabel('Total Sales')\n",
    "plt.title('Top 10 Products with Highest Sales')\n",
    "plt.xticks(rotation=45, ha='right')\n",
    "plt.tight_layout()\n",
    "plt.show()\n"
   ]
  },
  {
   "cell_type": "code",
   "execution_count": null,
   "id": "99be84d3",
   "metadata": {},
   "outputs": [],
   "source": []
  },
  {
   "cell_type": "code",
   "execution_count": null,
   "id": "da94f666",
   "metadata": {},
   "outputs": [],
   "source": []
  }
 ],
 "metadata": {
  "kernelspec": {
   "display_name": "Python 3 (ipykernel)",
   "language": "python",
   "name": "python3"
  },
  "language_info": {
   "codemirror_mode": {
    "name": "ipython",
    "version": 3
   },
   "file_extension": ".py",
   "mimetype": "text/x-python",
   "name": "python",
   "nbconvert_exporter": "python",
   "pygments_lexer": "ipython3",
   "version": "3.8.11"
  }
 },
 "nbformat": 4,
 "nbformat_minor": 5
}
